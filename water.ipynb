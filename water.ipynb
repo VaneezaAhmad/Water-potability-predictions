{
 "cells": [
  {
   "cell_type": "code",
   "execution_count": 4,
   "metadata": {
    "ExecuteTime": {
     "end_time": "2021-06-24T16:59:12.959686Z",
     "start_time": "2021-06-24T16:59:12.951472Z"
    }
   },
   "outputs": [],
   "source": [
    "import pandas as pd\n",
    "import numpy as np\n",
    "import pickle\n",
    "\n",
    "from sklearn.preprocessing import StandardScaler, PolynomialFeatures\n",
    "from sklearn.ensemble import RandomForestClassifier\n",
    "from sklearn.model_selection import GridSearchCV\n",
    "\n",
    "from sklearn.impute import SimpleImputer"
   ]
  },
  {
   "cell_type": "markdown",
   "metadata": {},
   "source": [
    "# Read in Test Data and Model"
   ]
  },
  {
   "cell_type": "code",
   "execution_count": 5,
   "metadata": {
    "ExecuteTime": {
     "end_time": "2021-06-24T16:59:33.069179Z",
     "start_time": "2021-06-24T16:59:33.046490Z"
    }
   },
   "outputs": [
    {
     "name": "stdout",
     "output_type": "stream",
     "text": [
      "(819, 10)\n"
     ]
    },
    {
     "data": {
      "text/html": [
       "<div>\n",
       "<style scoped>\n",
       "    .dataframe tbody tr th:only-of-type {\n",
       "        vertical-align: middle;\n",
       "    }\n",
       "\n",
       "    .dataframe tbody tr th {\n",
       "        vertical-align: top;\n",
       "    }\n",
       "\n",
       "    .dataframe thead th {\n",
       "        text-align: right;\n",
       "    }\n",
       "</style>\n",
       "<table border=\"1\" class=\"dataframe\">\n",
       "  <thead>\n",
       "    <tr style=\"text-align: right;\">\n",
       "      <th></th>\n",
       "      <th>ph</th>\n",
       "      <th>Hardness</th>\n",
       "      <th>Solids</th>\n",
       "      <th>Chloramines</th>\n",
       "      <th>Sulfate</th>\n",
       "      <th>Conductivity</th>\n",
       "      <th>Organic_carbon</th>\n",
       "      <th>Trihalomethanes</th>\n",
       "      <th>Turbidity</th>\n",
       "      <th>Potability</th>\n",
       "    </tr>\n",
       "  </thead>\n",
       "  <tbody>\n",
       "    <tr>\n",
       "      <th>1798</th>\n",
       "      <td>6.467868</td>\n",
       "      <td>236.694648</td>\n",
       "      <td>7656.413248</td>\n",
       "      <td>9.840949</td>\n",
       "      <td>214.460834</td>\n",
       "      <td>356.347842</td>\n",
       "      <td>14.412734</td>\n",
       "      <td>54.641176</td>\n",
       "      <td>2.861064</td>\n",
       "      <td>0</td>\n",
       "    </tr>\n",
       "    <tr>\n",
       "      <th>2660</th>\n",
       "      <td>8.331553</td>\n",
       "      <td>238.992414</td>\n",
       "      <td>11635.772076</td>\n",
       "      <td>3.923239</td>\n",
       "      <td>276.402280</td>\n",
       "      <td>406.245129</td>\n",
       "      <td>15.410764</td>\n",
       "      <td>NaN</td>\n",
       "      <td>2.692389</td>\n",
       "      <td>0</td>\n",
       "    </tr>\n",
       "    <tr>\n",
       "      <th>1700</th>\n",
       "      <td>7.700362</td>\n",
       "      <td>220.571796</td>\n",
       "      <td>29432.208251</td>\n",
       "      <td>6.356294</td>\n",
       "      <td>322.750328</td>\n",
       "      <td>444.957618</td>\n",
       "      <td>13.027439</td>\n",
       "      <td>77.829802</td>\n",
       "      <td>3.786487</td>\n",
       "      <td>0</td>\n",
       "    </tr>\n",
       "    <tr>\n",
       "      <th>392</th>\n",
       "      <td>6.664003</td>\n",
       "      <td>199.588718</td>\n",
       "      <td>15902.945276</td>\n",
       "      <td>5.257789</td>\n",
       "      <td>346.584556</td>\n",
       "      <td>347.353336</td>\n",
       "      <td>15.989419</td>\n",
       "      <td>61.156575</td>\n",
       "      <td>2.227728</td>\n",
       "      <td>1</td>\n",
       "    </tr>\n",
       "    <tr>\n",
       "      <th>551</th>\n",
       "      <td>NaN</td>\n",
       "      <td>190.046661</td>\n",
       "      <td>18327.438429</td>\n",
       "      <td>7.898765</td>\n",
       "      <td>354.419249</td>\n",
       "      <td>445.928456</td>\n",
       "      <td>12.902213</td>\n",
       "      <td>63.456620</td>\n",
       "      <td>4.543581</td>\n",
       "      <td>0</td>\n",
       "    </tr>\n",
       "  </tbody>\n",
       "</table>\n",
       "</div>"
      ],
      "text/plain": [
       "            ph    Hardness        Solids  Chloramines     Sulfate  \\\n",
       "1798  6.467868  236.694648   7656.413248     9.840949  214.460834   \n",
       "2660  8.331553  238.992414  11635.772076     3.923239  276.402280   \n",
       "1700  7.700362  220.571796  29432.208251     6.356294  322.750328   \n",
       "392   6.664003  199.588718  15902.945276     5.257789  346.584556   \n",
       "551        NaN  190.046661  18327.438429     7.898765  354.419249   \n",
       "\n",
       "      Conductivity  Organic_carbon  Trihalomethanes  Turbidity  Potability  \n",
       "1798    356.347842       14.412734        54.641176   2.861064           0  \n",
       "2660    406.245129       15.410764              NaN   2.692389           0  \n",
       "1700    444.957618       13.027439        77.829802   3.786487           0  \n",
       "392     347.353336       15.989419        61.156575   2.227728           1  \n",
       "551     445.928456       12.902213        63.456620   4.543581           0  "
      ]
     },
     "execution_count": 5,
     "metadata": {},
     "output_type": "execute_result"
    }
   ],
   "source": [
    "water = pd.read_csv('Data/holdout_set.csv', index_col=0)\n",
    "print(water.shape)\n",
    "water.head()"
   ]
  },
  {
   "cell_type": "code",
   "execution_count": 6,
   "metadata": {
    "ExecuteTime": {
     "end_time": "2021-06-24T16:59:43.595883Z",
     "start_time": "2021-06-24T16:59:43.508385Z"
    }
   },
   "outputs": [],
   "source": [
    "infile = open(\"pickle/model.pickle\",'rb')\n",
    "model = pickle.load(infile)\n",
    "infile.close()"
   ]
  },
  {
   "cell_type": "code",
   "execution_count": null,
   "metadata": {},
   "outputs": [],
   "source": [
    "model"
   ]
  },
  {
   "cell_type": "code",
   "execution_count": 7,
   "metadata": {
    "ExecuteTime": {
     "end_time": "2021-06-24T16:59:45.498551Z",
     "start_time": "2021-06-24T16:59:45.493284Z"
    }
   },
   "outputs": [],
   "source": [
    "infile = open(\"pickle/other.pickle\",'rb')\n",
    "other = pickle.load(infile)\n",
    "infile.close()"
   ]
  },
  {
   "cell_type": "markdown",
   "metadata": {},
   "source": [
    "# Is missing columns"
   ]
  },
  {
   "cell_type": "code",
   "execution_count": 8,
   "metadata": {
    "ExecuteTime": {
     "end_time": "2021-06-24T16:59:49.386925Z",
     "start_time": "2021-06-24T16:59:49.376333Z"
    }
   },
   "outputs": [],
   "source": [
    "x = water['ph']\n",
    "condlist = [x == 'NaN', x != 'NaN']\n",
    "choicelist = [1, 0]\n",
    "water['ph_missing'] = np.select(condlist, choicelist)\n",
    "\n",
    "y = water['Sulfate']\n",
    "condlist = [y == 'NaN', y != 'NaN']\n",
    "choicelist = [1, 0]\n",
    "water['Sulfate_missing'] = np.select(condlist, choicelist)\n",
    "\n",
    "z = water['Trihalomethanes']\n",
    "condlist = [z == 'NaN', z != 'NaN']\n",
    "choicelist = [1, 0]\n",
    "water['Trihalomethanes_missing'] = np.select(condlist, choicelist)"
   ]
  },
  {
   "cell_type": "code",
   "execution_count": null,
   "metadata": {},
   "outputs": [],
   "source": []
  },
  {
   "cell_type": "markdown",
   "metadata": {},
   "source": [
    "# Impute Missing Values"
   ]
  },
  {
   "cell_type": "code",
   "execution_count": 9,
   "metadata": {
    "ExecuteTime": {
     "end_time": "2021-06-24T16:59:54.111071Z",
     "start_time": "2021-06-24T16:59:54.100525Z"
    }
   },
   "outputs": [],
   "source": [
    "\n",
    "imp=SimpleImputer(missing_values=np.NaN, strategy = 'mean')\n",
    "water_imputed =pd.DataFrame(imp.fit_transform(water))\n",
    "water_imputed.columns=water.columns\n",
    "water_imputed.index=water.index"
   ]
  },
  {
   "cell_type": "code",
   "execution_count": null,
   "metadata": {},
   "outputs": [],
   "source": []
  },
  {
   "cell_type": "code",
   "execution_count": 11,
   "metadata": {
    "ExecuteTime": {
     "end_time": "2021-06-24T17:00:22.748721Z",
     "start_time": "2021-06-24T17:00:22.744393Z"
    }
   },
   "outputs": [],
   "source": [
    "X=water_imputed.drop(\"Potability\", axis=1)\n",
    "y=water_imputed.Potability"
   ]
  },
  {
   "cell_type": "code",
   "execution_count": 22,
   "metadata": {
    "ExecuteTime": {
     "end_time": "2021-06-24T17:06:10.611121Z",
     "start_time": "2021-06-24T17:06:10.605316Z"
    }
   },
   "outputs": [
    {
     "data": {
      "text/plain": [
       "1798    0.0\n",
       "2660    0.0\n",
       "1700    0.0\n",
       "392     1.0\n",
       "551     0.0\n",
       "       ... \n",
       "1156    1.0\n",
       "3235    1.0\n",
       "3175    1.0\n",
       "1913    1.0\n",
       "2489    0.0\n",
       "Name: Potability, Length: 819, dtype: float64"
      ]
     },
     "execution_count": 22,
     "metadata": {},
     "output_type": "execute_result"
    }
   ],
   "source": [
    "y"
   ]
  },
  {
   "cell_type": "markdown",
   "metadata": {},
   "source": [
    "# Polynomial Features (2)"
   ]
  },
  {
   "cell_type": "code",
   "execution_count": 12,
   "metadata": {
    "ExecuteTime": {
     "end_time": "2021-06-24T17:00:24.969505Z",
     "start_time": "2021-06-24T17:00:24.958583Z"
    }
   },
   "outputs": [],
   "source": [
    "\n",
    "poly=PolynomialFeatures(degree=2)\n",
    "poly_water = poly.fit_transform(X)\n",
    "\n",
    "water_columns = poly.get_feature_names(X.columns)\n",
    "poly_water = pd.DataFrame(poly_water, columns=water_columns)"
   ]
  },
  {
   "cell_type": "code",
   "execution_count": 23,
   "metadata": {
    "ExecuteTime": {
     "end_time": "2021-06-24T17:06:20.987381Z",
     "start_time": "2021-06-24T17:06:20.983984Z"
    }
   },
   "outputs": [
    {
     "data": {
      "text/plain": [
       "(819, 91)"
      ]
     },
     "execution_count": 23,
     "metadata": {},
     "output_type": "execute_result"
    }
   ],
   "source": [
    "poly_water.shape"
   ]
  },
  {
   "cell_type": "markdown",
   "metadata": {},
   "source": [
    "# Predict using Random Forest"
   ]
  },
  {
   "cell_type": "code",
   "execution_count": 14,
   "metadata": {
    "ExecuteTime": {
     "end_time": "2021-06-24T17:00:38.607256Z",
     "start_time": "2021-06-24T17:00:38.555337Z"
    }
   },
   "outputs": [
    {
     "data": {
      "text/html": [
       "<div>\n",
       "<style scoped>\n",
       "    .dataframe tbody tr th:only-of-type {\n",
       "        vertical-align: middle;\n",
       "    }\n",
       "\n",
       "    .dataframe tbody tr th {\n",
       "        vertical-align: top;\n",
       "    }\n",
       "\n",
       "    .dataframe thead th {\n",
       "        text-align: right;\n",
       "    }\n",
       "</style>\n",
       "<table border=\"1\" class=\"dataframe\">\n",
       "  <thead>\n",
       "    <tr style=\"text-align: right;\">\n",
       "      <th></th>\n",
       "      <th>1</th>\n",
       "      <th>ph</th>\n",
       "      <th>Hardness</th>\n",
       "      <th>Solids</th>\n",
       "      <th>Chloramines</th>\n",
       "      <th>Sulfate</th>\n",
       "      <th>Conductivity</th>\n",
       "      <th>Organic_carbon</th>\n",
       "      <th>Trihalomethanes</th>\n",
       "      <th>Turbidity</th>\n",
       "      <th>...</th>\n",
       "      <th>Turbidity^2</th>\n",
       "      <th>Turbidity ph_missing</th>\n",
       "      <th>Turbidity Sulfate_missing</th>\n",
       "      <th>Turbidity Trihalomethanes_missing</th>\n",
       "      <th>ph_missing^2</th>\n",
       "      <th>ph_missing Sulfate_missing</th>\n",
       "      <th>ph_missing Trihalomethanes_missing</th>\n",
       "      <th>Sulfate_missing^2</th>\n",
       "      <th>Sulfate_missing Trihalomethanes_missing</th>\n",
       "      <th>Trihalomethanes_missing^2</th>\n",
       "    </tr>\n",
       "  </thead>\n",
       "  <tbody>\n",
       "    <tr>\n",
       "      <th>0</th>\n",
       "      <td>1.0</td>\n",
       "      <td>8.884935</td>\n",
       "      <td>145.277706</td>\n",
       "      <td>17621.390115</td>\n",
       "      <td>8.267974</td>\n",
       "      <td>341.477474</td>\n",
       "      <td>286.890777</td>\n",
       "      <td>15.194724</td>\n",
       "      <td>42.289054</td>\n",
       "      <td>4.714163</td>\n",
       "      <td>...</td>\n",
       "      <td>22.223337</td>\n",
       "      <td>0.0</td>\n",
       "      <td>0.0</td>\n",
       "      <td>0.0</td>\n",
       "      <td>0.0</td>\n",
       "      <td>0.0</td>\n",
       "      <td>0.0</td>\n",
       "      <td>0.0</td>\n",
       "      <td>0.0</td>\n",
       "      <td>0.0</td>\n",
       "    </tr>\n",
       "    <tr>\n",
       "      <th>1</th>\n",
       "      <td>1.0</td>\n",
       "      <td>7.081348</td>\n",
       "      <td>187.043283</td>\n",
       "      <td>24634.552443</td>\n",
       "      <td>9.081880</td>\n",
       "      <td>334.238580</td>\n",
       "      <td>443.843399</td>\n",
       "      <td>11.053925</td>\n",
       "      <td>74.108180</td>\n",
       "      <td>3.498717</td>\n",
       "      <td>...</td>\n",
       "      <td>12.241019</td>\n",
       "      <td>0.0</td>\n",
       "      <td>0.0</td>\n",
       "      <td>0.0</td>\n",
       "      <td>0.0</td>\n",
       "      <td>0.0</td>\n",
       "      <td>0.0</td>\n",
       "      <td>0.0</td>\n",
       "      <td>0.0</td>\n",
       "      <td>0.0</td>\n",
       "    </tr>\n",
       "    <tr>\n",
       "      <th>2</th>\n",
       "      <td>1.0</td>\n",
       "      <td>7.261551</td>\n",
       "      <td>179.889788</td>\n",
       "      <td>24964.777703</td>\n",
       "      <td>5.837086</td>\n",
       "      <td>349.269271</td>\n",
       "      <td>501.182781</td>\n",
       "      <td>17.287713</td>\n",
       "      <td>50.993006</td>\n",
       "      <td>3.636364</td>\n",
       "      <td>...</td>\n",
       "      <td>13.223144</td>\n",
       "      <td>0.0</td>\n",
       "      <td>0.0</td>\n",
       "      <td>0.0</td>\n",
       "      <td>0.0</td>\n",
       "      <td>0.0</td>\n",
       "      <td>0.0</td>\n",
       "      <td>0.0</td>\n",
       "      <td>0.0</td>\n",
       "      <td>0.0</td>\n",
       "    </tr>\n",
       "    <tr>\n",
       "      <th>3</th>\n",
       "      <td>1.0</td>\n",
       "      <td>7.895769</td>\n",
       "      <td>168.724047</td>\n",
       "      <td>28723.617627</td>\n",
       "      <td>9.341475</td>\n",
       "      <td>353.976181</td>\n",
       "      <td>517.436676</td>\n",
       "      <td>11.992772</td>\n",
       "      <td>79.860552</td>\n",
       "      <td>4.391731</td>\n",
       "      <td>...</td>\n",
       "      <td>19.287304</td>\n",
       "      <td>0.0</td>\n",
       "      <td>0.0</td>\n",
       "      <td>0.0</td>\n",
       "      <td>0.0</td>\n",
       "      <td>0.0</td>\n",
       "      <td>0.0</td>\n",
       "      <td>0.0</td>\n",
       "      <td>0.0</td>\n",
       "      <td>0.0</td>\n",
       "    </tr>\n",
       "    <tr>\n",
       "      <th>4</th>\n",
       "      <td>1.0</td>\n",
       "      <td>9.723377</td>\n",
       "      <td>190.897421</td>\n",
       "      <td>9076.646483</td>\n",
       "      <td>9.752088</td>\n",
       "      <td>357.384709</td>\n",
       "      <td>443.037417</td>\n",
       "      <td>13.307824</td>\n",
       "      <td>62.826687</td>\n",
       "      <td>4.072063</td>\n",
       "      <td>...</td>\n",
       "      <td>16.581700</td>\n",
       "      <td>0.0</td>\n",
       "      <td>0.0</td>\n",
       "      <td>0.0</td>\n",
       "      <td>0.0</td>\n",
       "      <td>0.0</td>\n",
       "      <td>0.0</td>\n",
       "      <td>0.0</td>\n",
       "      <td>0.0</td>\n",
       "      <td>0.0</td>\n",
       "    </tr>\n",
       "    <tr>\n",
       "      <th>...</th>\n",
       "      <td>...</td>\n",
       "      <td>...</td>\n",
       "      <td>...</td>\n",
       "      <td>...</td>\n",
       "      <td>...</td>\n",
       "      <td>...</td>\n",
       "      <td>...</td>\n",
       "      <td>...</td>\n",
       "      <td>...</td>\n",
       "      <td>...</td>\n",
       "      <td>...</td>\n",
       "      <td>...</td>\n",
       "      <td>...</td>\n",
       "      <td>...</td>\n",
       "      <td>...</td>\n",
       "      <td>...</td>\n",
       "      <td>...</td>\n",
       "      <td>...</td>\n",
       "      <td>...</td>\n",
       "      <td>...</td>\n",
       "      <td>...</td>\n",
       "    </tr>\n",
       "    <tr>\n",
       "      <th>2452</th>\n",
       "      <td>1.0</td>\n",
       "      <td>7.348845</td>\n",
       "      <td>223.264940</td>\n",
       "      <td>11519.046527</td>\n",
       "      <td>8.889559</td>\n",
       "      <td>334.238580</td>\n",
       "      <td>494.158434</td>\n",
       "      <td>18.145374</td>\n",
       "      <td>73.715522</td>\n",
       "      <td>4.880875</td>\n",
       "      <td>...</td>\n",
       "      <td>23.822942</td>\n",
       "      <td>0.0</td>\n",
       "      <td>0.0</td>\n",
       "      <td>0.0</td>\n",
       "      <td>0.0</td>\n",
       "      <td>0.0</td>\n",
       "      <td>0.0</td>\n",
       "      <td>0.0</td>\n",
       "      <td>0.0</td>\n",
       "      <td>0.0</td>\n",
       "    </tr>\n",
       "    <tr>\n",
       "      <th>2453</th>\n",
       "      <td>1.0</td>\n",
       "      <td>3.928556</td>\n",
       "      <td>191.665998</td>\n",
       "      <td>17328.161457</td>\n",
       "      <td>7.692417</td>\n",
       "      <td>306.479558</td>\n",
       "      <td>406.085614</td>\n",
       "      <td>9.578602</td>\n",
       "      <td>45.480738</td>\n",
       "      <td>5.060836</td>\n",
       "      <td>...</td>\n",
       "      <td>25.612061</td>\n",
       "      <td>0.0</td>\n",
       "      <td>0.0</td>\n",
       "      <td>0.0</td>\n",
       "      <td>0.0</td>\n",
       "      <td>0.0</td>\n",
       "      <td>0.0</td>\n",
       "      <td>0.0</td>\n",
       "      <td>0.0</td>\n",
       "      <td>0.0</td>\n",
       "    </tr>\n",
       "    <tr>\n",
       "      <th>2454</th>\n",
       "      <td>1.0</td>\n",
       "      <td>7.774468</td>\n",
       "      <td>216.752872</td>\n",
       "      <td>22316.398284</td>\n",
       "      <td>7.947534</td>\n",
       "      <td>385.043438</td>\n",
       "      <td>288.068578</td>\n",
       "      <td>14.136699</td>\n",
       "      <td>68.861861</td>\n",
       "      <td>3.891097</td>\n",
       "      <td>...</td>\n",
       "      <td>15.140638</td>\n",
       "      <td>0.0</td>\n",
       "      <td>0.0</td>\n",
       "      <td>0.0</td>\n",
       "      <td>0.0</td>\n",
       "      <td>0.0</td>\n",
       "      <td>0.0</td>\n",
       "      <td>0.0</td>\n",
       "      <td>0.0</td>\n",
       "      <td>0.0</td>\n",
       "    </tr>\n",
       "    <tr>\n",
       "      <th>2455</th>\n",
       "      <td>1.0</td>\n",
       "      <td>7.833980</td>\n",
       "      <td>203.169408</td>\n",
       "      <td>11174.274760</td>\n",
       "      <td>6.246502</td>\n",
       "      <td>394.890809</td>\n",
       "      <td>338.231122</td>\n",
       "      <td>16.276592</td>\n",
       "      <td>47.931639</td>\n",
       "      <td>4.254477</td>\n",
       "      <td>...</td>\n",
       "      <td>18.100576</td>\n",
       "      <td>0.0</td>\n",
       "      <td>0.0</td>\n",
       "      <td>0.0</td>\n",
       "      <td>0.0</td>\n",
       "      <td>0.0</td>\n",
       "      <td>0.0</td>\n",
       "      <td>0.0</td>\n",
       "      <td>0.0</td>\n",
       "      <td>0.0</td>\n",
       "    </tr>\n",
       "    <tr>\n",
       "      <th>2456</th>\n",
       "      <td>1.0</td>\n",
       "      <td>7.081348</td>\n",
       "      <td>221.675463</td>\n",
       "      <td>10117.084438</td>\n",
       "      <td>8.026586</td>\n",
       "      <td>356.211614</td>\n",
       "      <td>508.262754</td>\n",
       "      <td>14.058461</td>\n",
       "      <td>40.916811</td>\n",
       "      <td>3.190128</td>\n",
       "      <td>...</td>\n",
       "      <td>10.176915</td>\n",
       "      <td>0.0</td>\n",
       "      <td>0.0</td>\n",
       "      <td>0.0</td>\n",
       "      <td>0.0</td>\n",
       "      <td>0.0</td>\n",
       "      <td>0.0</td>\n",
       "      <td>0.0</td>\n",
       "      <td>0.0</td>\n",
       "      <td>0.0</td>\n",
       "    </tr>\n",
       "  </tbody>\n",
       "</table>\n",
       "<p>2457 rows × 91 columns</p>\n",
       "</div>"
      ],
      "text/plain": [
       "        1        ph    Hardness        Solids  Chloramines     Sulfate  \\\n",
       "0     1.0  8.884935  145.277706  17621.390115     8.267974  341.477474   \n",
       "1     1.0  7.081348  187.043283  24634.552443     9.081880  334.238580   \n",
       "2     1.0  7.261551  179.889788  24964.777703     5.837086  349.269271   \n",
       "3     1.0  7.895769  168.724047  28723.617627     9.341475  353.976181   \n",
       "4     1.0  9.723377  190.897421   9076.646483     9.752088  357.384709   \n",
       "...   ...       ...         ...           ...          ...         ...   \n",
       "2452  1.0  7.348845  223.264940  11519.046527     8.889559  334.238580   \n",
       "2453  1.0  3.928556  191.665998  17328.161457     7.692417  306.479558   \n",
       "2454  1.0  7.774468  216.752872  22316.398284     7.947534  385.043438   \n",
       "2455  1.0  7.833980  203.169408  11174.274760     6.246502  394.890809   \n",
       "2456  1.0  7.081348  221.675463  10117.084438     8.026586  356.211614   \n",
       "\n",
       "      Conductivity  Organic_carbon  Trihalomethanes  Turbidity  ...  \\\n",
       "0       286.890777       15.194724        42.289054   4.714163  ...   \n",
       "1       443.843399       11.053925        74.108180   3.498717  ...   \n",
       "2       501.182781       17.287713        50.993006   3.636364  ...   \n",
       "3       517.436676       11.992772        79.860552   4.391731  ...   \n",
       "4       443.037417       13.307824        62.826687   4.072063  ...   \n",
       "...            ...             ...              ...        ...  ...   \n",
       "2452    494.158434       18.145374        73.715522   4.880875  ...   \n",
       "2453    406.085614        9.578602        45.480738   5.060836  ...   \n",
       "2454    288.068578       14.136699        68.861861   3.891097  ...   \n",
       "2455    338.231122       16.276592        47.931639   4.254477  ...   \n",
       "2456    508.262754       14.058461        40.916811   3.190128  ...   \n",
       "\n",
       "      Turbidity^2  Turbidity ph_missing  Turbidity Sulfate_missing  \\\n",
       "0       22.223337                   0.0                        0.0   \n",
       "1       12.241019                   0.0                        0.0   \n",
       "2       13.223144                   0.0                        0.0   \n",
       "3       19.287304                   0.0                        0.0   \n",
       "4       16.581700                   0.0                        0.0   \n",
       "...           ...                   ...                        ...   \n",
       "2452    23.822942                   0.0                        0.0   \n",
       "2453    25.612061                   0.0                        0.0   \n",
       "2454    15.140638                   0.0                        0.0   \n",
       "2455    18.100576                   0.0                        0.0   \n",
       "2456    10.176915                   0.0                        0.0   \n",
       "\n",
       "      Turbidity Trihalomethanes_missing  ph_missing^2  \\\n",
       "0                                   0.0           0.0   \n",
       "1                                   0.0           0.0   \n",
       "2                                   0.0           0.0   \n",
       "3                                   0.0           0.0   \n",
       "4                                   0.0           0.0   \n",
       "...                                 ...           ...   \n",
       "2452                                0.0           0.0   \n",
       "2453                                0.0           0.0   \n",
       "2454                                0.0           0.0   \n",
       "2455                                0.0           0.0   \n",
       "2456                                0.0           0.0   \n",
       "\n",
       "      ph_missing Sulfate_missing  ph_missing Trihalomethanes_missing  \\\n",
       "0                            0.0                                 0.0   \n",
       "1                            0.0                                 0.0   \n",
       "2                            0.0                                 0.0   \n",
       "3                            0.0                                 0.0   \n",
       "4                            0.0                                 0.0   \n",
       "...                          ...                                 ...   \n",
       "2452                         0.0                                 0.0   \n",
       "2453                         0.0                                 0.0   \n",
       "2454                         0.0                                 0.0   \n",
       "2455                         0.0                                 0.0   \n",
       "2456                         0.0                                 0.0   \n",
       "\n",
       "      Sulfate_missing^2  Sulfate_missing Trihalomethanes_missing  \\\n",
       "0                   0.0                                      0.0   \n",
       "1                   0.0                                      0.0   \n",
       "2                   0.0                                      0.0   \n",
       "3                   0.0                                      0.0   \n",
       "4                   0.0                                      0.0   \n",
       "...                 ...                                      ...   \n",
       "2452                0.0                                      0.0   \n",
       "2453                0.0                                      0.0   \n",
       "2454                0.0                                      0.0   \n",
       "2455                0.0                                      0.0   \n",
       "2456                0.0                                      0.0   \n",
       "\n",
       "      Trihalomethanes_missing^2  \n",
       "0                           0.0  \n",
       "1                           0.0  \n",
       "2                           0.0  \n",
       "3                           0.0  \n",
       "4                           0.0  \n",
       "...                         ...  \n",
       "2452                        0.0  \n",
       "2453                        0.0  \n",
       "2454                        0.0  \n",
       "2455                        0.0  \n",
       "2456                        0.0  \n",
       "\n",
       "[2457 rows x 91 columns]"
      ]
     },
     "execution_count": 14,
     "metadata": {},
     "output_type": "execute_result"
    }
   ],
   "source": [
    "final_columns = other[0]\n",
    "final_columns"
   ]
  },
  {
   "cell_type": "code",
   "execution_count": 24,
   "metadata": {
    "ExecuteTime": {
     "end_time": "2021-06-24T17:06:53.701206Z",
     "start_time": "2021-06-24T17:06:53.548785Z"
    }
   },
   "outputs": [],
   "source": [
    "final_answers = model.predict(poly_water)"
   ]
  },
  {
   "cell_type": "code",
   "execution_count": 25,
   "metadata": {
    "ExecuteTime": {
     "end_time": "2021-06-24T17:06:56.206175Z",
     "start_time": "2021-06-24T17:06:56.199445Z"
    }
   },
   "outputs": [
    {
     "data": {
      "text/html": [
       "<div>\n",
       "<style scoped>\n",
       "    .dataframe tbody tr th:only-of-type {\n",
       "        vertical-align: middle;\n",
       "    }\n",
       "\n",
       "    .dataframe tbody tr th {\n",
       "        vertical-align: top;\n",
       "    }\n",
       "\n",
       "    .dataframe thead th {\n",
       "        text-align: right;\n",
       "    }\n",
       "</style>\n",
       "<table border=\"1\" class=\"dataframe\">\n",
       "  <thead>\n",
       "    <tr style=\"text-align: right;\">\n",
       "      <th></th>\n",
       "      <th>0</th>\n",
       "    </tr>\n",
       "  </thead>\n",
       "  <tbody>\n",
       "    <tr>\n",
       "      <th>0</th>\n",
       "      <td>0</td>\n",
       "    </tr>\n",
       "    <tr>\n",
       "      <th>1</th>\n",
       "      <td>0</td>\n",
       "    </tr>\n",
       "    <tr>\n",
       "      <th>2</th>\n",
       "      <td>0</td>\n",
       "    </tr>\n",
       "    <tr>\n",
       "      <th>3</th>\n",
       "      <td>0</td>\n",
       "    </tr>\n",
       "    <tr>\n",
       "      <th>4</th>\n",
       "      <td>0</td>\n",
       "    </tr>\n",
       "    <tr>\n",
       "      <th>...</th>\n",
       "      <td>...</td>\n",
       "    </tr>\n",
       "    <tr>\n",
       "      <th>814</th>\n",
       "      <td>0</td>\n",
       "    </tr>\n",
       "    <tr>\n",
       "      <th>815</th>\n",
       "      <td>0</td>\n",
       "    </tr>\n",
       "    <tr>\n",
       "      <th>816</th>\n",
       "      <td>0</td>\n",
       "    </tr>\n",
       "    <tr>\n",
       "      <th>817</th>\n",
       "      <td>0</td>\n",
       "    </tr>\n",
       "    <tr>\n",
       "      <th>818</th>\n",
       "      <td>0</td>\n",
       "    </tr>\n",
       "  </tbody>\n",
       "</table>\n",
       "<p>819 rows × 1 columns</p>\n",
       "</div>"
      ],
      "text/plain": [
       "     0\n",
       "0    0\n",
       "1    0\n",
       "2    0\n",
       "3    0\n",
       "4    0\n",
       "..  ..\n",
       "814  0\n",
       "815  0\n",
       "816  0\n",
       "817  0\n",
       "818  0\n",
       "\n",
       "[819 rows x 1 columns]"
      ]
     },
     "execution_count": 25,
     "metadata": {},
     "output_type": "execute_result"
    }
   ],
   "source": [
    "water_final = pd.DataFrame(final_answers)\n",
    "water_final"
   ]
  },
  {
   "cell_type": "code",
   "execution_count": 26,
   "metadata": {
    "ExecuteTime": {
     "end_time": "2021-06-24T17:07:01.186828Z",
     "start_time": "2021-06-24T17:07:00.859910Z"
    }
   },
   "outputs": [
    {
     "name": "stdout",
     "output_type": "stream",
     "text": [
      "              precision    recall  f1-score   support\n",
      "\n",
      "         0.0       0.66      0.92      0.77       500\n",
      "         1.0       0.69      0.27      0.39       319\n",
      "\n",
      "    accuracy                           0.67       819\n",
      "   macro avg       0.67      0.60      0.58       819\n",
      "weighted avg       0.67      0.67      0.62       819\n",
      "\n"
     ]
    },
    {
     "data": {
      "image/png": "[encoded data removed]",
      "text/plain": [
       "<Figure size 432x288 with 2 Axes>"
      ]
     },
     "metadata": {
      "needs_background": "light"
     },
     "output_type": "display_data"
    }
   ],
   "source": [
    "from sklearn.metrics import plot_confusion_matrix, classification_report\n",
    "\n",
    "plot_confusion_matrix(model, poly_water, y)\n",
    "\n",
    "print(classification_report(y, final_answers))"
   ]
  },
  {
   "cell_type": "code",
   "execution_count": 27,
   "metadata": {
    "ExecuteTime": {
     "end_time": "2021-06-24T17:09:21.448436Z",
     "start_time": "2021-06-24T17:09:21.438432Z"
    }
   },
   "outputs": [],
   "source": [
    "water_final.to_csv('Data/water_predictions.csv')"
   ]
  }
 ],
 "metadata": {
  "interpreter": {
   "hash": "dca0ade3e726a953b501b15e8e990130d2b7799f14cfd9f4271676035ebe5511"
  },
  "kernelspec": {
   "display_name": "Python 3",
   "language": "python",
   "name": "python3"
  },
  "language_info": {
   "codemirror_mode": {
    "name": "ipython",
    "version": 3
   },
   "file_extension": ".py",
   "mimetype": "text/x-python",
   "name": "python",
   "nbconvert_exporter": "python",
   "pygments_lexer": "ipython3",
   "version": "3.8.5"
  },
  "toc": {
   "base_numbering": 1,
   "nav_menu": {},
   "number_sections": true,
   "sideBar": true,
   "skip_h1_title": false,
   "title_cell": "Table of Contents",
   "title_sidebar": "Contents",
   "toc_cell": false,
   "toc_position": {},
   "toc_section_display": true,
   "toc_window_display": true
  }
 },
 "nbformat": 4,
 "nbformat_minor": 2
}
